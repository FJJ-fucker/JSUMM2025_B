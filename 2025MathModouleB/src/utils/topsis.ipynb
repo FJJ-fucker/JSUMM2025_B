{
 "cells": [
  {
   "metadata": {},
   "cell_type": "code",
   "outputs": [],
   "execution_count": null,
   "source": [
    "# src/utils/topsis.py\n",
    "\n",
    "import numpy as np\n",
    "import pandas as pd\n",
    "\n",
    "def topsis_score(norm_df: pd.DataFrame, weights: np.ndarray) -> np.ndarray:\n",
    "    weighted = norm_df * weights\n",
    "    ideal_best = weighted.max()\n",
    "    ideal_worst = weighted.min()\n",
    "    d_pos = np.sqrt(((weighted - ideal_best) ** 2).sum(axis=1))\n",
    "    d_neg = np.sqrt(((weighted - ideal_worst) ** 2).sum(axis=1))\n",
    "    score = d_neg / (d_pos + d_neg)\n",
    "    return score\n"
   ],
   "id": "53796fef3e00d078"
  }
 ],
 "metadata": {},
 "nbformat": 4,
 "nbformat_minor": 5
}
