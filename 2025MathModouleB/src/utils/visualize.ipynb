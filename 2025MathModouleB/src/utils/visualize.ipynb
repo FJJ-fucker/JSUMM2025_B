{
 "cells": [
  {
   "metadata": {},
   "cell_type": "code",
   "outputs": [],
   "execution_count": null,
   "source": [
    "# src/utils/visualize.py\n",
    "\n",
    "import matplotlib.pyplot as plt\n",
    "import seaborn as sns\n",
    "import pandas as pd\n",
    "from matplotlib import font_manager\n",
    "import warnings\n",
    "warnings.filterwarnings(\"ignore\")\n",
    "font_path = '/usr/share/fonts/truetype/wqy/wqy-microhei.ttc'  # 适配 Linux\n",
    "my_font = font_manager.FontProperties(fname=font_path)\n",
    "plt.rcParams['font.sans-serif'] = [my_font.get_name()]\n",
    "def plot_scores(df: pd.DataFrame, score_col: str = '综合得分', top_n: int = 10):\n",
    "    \"\"\"\n",
    "    绘制企业得分条形图\n",
    "    \"\"\"\n",
    "    top_df = df.sort_values(by=score_col, ascending=False).head(top_n)\n",
    "    plt.figure(figsize=(10, 6))\n",
    "    sns.barplot(data=top_df, x='企业编号', y=score_col, palette='Blues_d')\n",
    "    plt.title(f'前{top_n}家企业综合得分柱状图')\n",
    "    plt.ylabel(\"综合得分\")\n",
    "    plt.xlabel(\"企业编号\")\n",
    "    plt.tight_layout()\n",
    "    plt.show()\n"
   ],
   "id": "ff0e9351b2a4b7a1"
  }
 ],
 "metadata": {},
 "nbformat": 4,
 "nbformat_minor": 5
}
