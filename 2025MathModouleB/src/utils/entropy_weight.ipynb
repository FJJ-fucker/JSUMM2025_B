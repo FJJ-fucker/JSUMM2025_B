{
 "cells": [
  {
   "metadata": {},
   "cell_type": "code",
   "outputs": [],
   "execution_count": null,
   "source": [
    "# src/utils/entropy_weight.py\n",
    "\n",
    "import numpy as np\n",
    "import pandas as pd\n",
    "\n",
    "def calculate_entropy_weight(norm_df: pd.DataFrame) -> np.ndarray:\n",
    "    P = norm_df / norm_df.sum(axis=0)\n",
    "    E = -np.nansum(P * np.log(P + 1e-12), axis=0) / np.log(len(norm_df))\n",
    "    d = 1 - E\n",
    "    w = d / d.sum()\n",
    "    return w\n"
   ],
   "id": "6a22868caf8d39af"
  }
 ],
 "metadata": {},
 "nbformat": 4,
 "nbformat_minor": 5
}
