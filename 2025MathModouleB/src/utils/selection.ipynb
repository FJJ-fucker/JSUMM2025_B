{
 "cells": [
  {
   "metadata": {},
   "cell_type": "code",
   "outputs": [],
   "execution_count": null,
   "source": [
    "# src/utils/selection.py\n",
    "\n",
    "import pandas as pd\n",
    "from .normalize import min_max_normalize, reverse_columns\n",
    "from .entropy_weight import calculate_entropy_weight\n",
    "from .topsis import topsis_score\n",
    "\n",
    "\n",
    "def select_top_enterprises(df: pd.DataFrame, top_n=7, method='entropy_topsis') -> pd.DataFrame:\n",
    "    df_copy = df.copy()\n",
    "    cols = df_copy.columns[1:]  # x1 ~ x9\n",
    "    norm_df = min_max_normalize(df_copy[cols])\n",
    "    norm_df = reverse_columns(norm_df, ['x9_投诉率'])\n",
    "\n",
    "    weights = calculate_entropy_weight(norm_df)\n",
    "    score = topsis_score(norm_df, weights)\n",
    "\n",
    "    df_copy['综合得分'] = score\n",
    "    df_copy_sorted = df_copy.sort_values(by='综合得分', ascending=False).reset_index(drop=True)\n",
    "    return df_copy_sorted.iloc[:top_n]\n",
    "def calculate_scores(df: pd.DataFrame) -> dict:\n",
    "    \"\"\"\n",
    "    输入企业指标 DataFrame（x1 ~ x9），输出 企业编号 => 综合得分 的字典\n",
    "    \"\"\"\n",
    "    df_copy = df.copy()\n",
    "    cols = df_copy.columns[1:]  # x1 ~ x9\n",
    "    norm_df = min_max_normalize(df_copy[cols])\n",
    "    norm_df = reverse_columns(norm_df, ['x9_投诉率'])\n",
    "\n",
    "    weights = calculate_entropy_weight(norm_df)\n",
    "    scores = topsis_score(norm_df, weights)\n",
    "    return dict(zip(df_copy['企业编号'], scores))\n"
   ],
   "id": "595d7c8a97a1803f"
  }
 ],
 "metadata": {},
 "nbformat": 4,
 "nbformat_minor": 5
}
