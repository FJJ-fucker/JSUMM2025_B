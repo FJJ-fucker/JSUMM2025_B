{
 "cells": [
  {
   "metadata": {},
   "cell_type": "code",
   "outputs": [],
   "execution_count": null,
   "source": [
    "# src/utils/normalize.py\n",
    "\n",
    "import numpy as np\n",
    "import pandas as pd\n",
    "\n",
    "def min_max_normalize(df: pd.DataFrame) -> pd.DataFrame:\n",
    "    return (df - df.min()) / (df.max() - df.min())\n",
    "\n",
    "def reverse_columns(df: pd.DataFrame, columns: list) -> pd.DataFrame:\n",
    "    df_copy = df.copy()\n",
    "    for col in columns:\n",
    "        df_copy[col] = 1 - df_copy[col]\n",
    "    return df_copy\n"
   ],
   "id": "c11c260ee231c385"
  }
 ],
 "metadata": {},
 "nbformat": 4,
 "nbformat_minor": 5
}
