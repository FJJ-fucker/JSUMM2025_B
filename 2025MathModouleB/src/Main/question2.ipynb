{
 "cells": [
  {
   "metadata": {},
   "cell_type": "markdown",
   "source": "# question2.ipynb - 展位分配建模（问题二）",
   "id": "33479ae21f51d13e"
  },
  {
   "cell_type": "code",
   "id": "initial_id",
   "metadata": {
    "collapsed": true,
    "ExecuteTime": {
     "end_time": "2025-06-30T03:09:36.782036Z",
     "start_time": "2025-06-30T03:09:36.779104Z"
    }
   },
   "source": [
    "# 一、环境设置与路径配置\n",
    "import sys, os, warnings\n",
    "warnings.filterwarnings(\"ignore\")\n",
    "\n",
    "# 项目根目录加入模块路径\n",
    "PROJECT_ROOT = os.path.abspath(os.path.join(os.getcwd(), \"../../\"))\n",
    "sys.path.append(PROJECT_ROOT)\n",
    "\n",
    "import matplotlib.pyplot as plt\n",
    "import seaborn as sns\n",
    "import pandas as pd\n",
    "from matplotlib import font_manager\n",
    "import warnings\n",
    "warnings.filterwarnings(\"ignore\")\n",
    "font_path = '/usr/share/fonts/truetype/wqy/wqy-microhei.ttc'  # 适配 Linux\n",
    "my_font = font_manager.FontProperties(fname=font_path)\n",
    "plt.rcParams['font.sans-serif'] = [my_font.get_name()]\n"
   ],
   "outputs": [],
   "execution_count": 24
  },
  {
   "metadata": {
    "ExecuteTime": {
     "end_time": "2025-06-30T03:09:36.796046Z",
     "start_time": "2025-06-30T03:09:36.793365Z"
    }
   },
   "cell_type": "code",
   "source": [
    "# 二、读取数据\n",
    "import pandas as pd\n",
    "from src.scheduler.booth_data_loader import load_booth_schedule\n",
    "from src.scheduler.booth_allocator import allocate_booths\n",
    "from src.scheduler.validate_assignment import validate_schedule\n",
    "from src.scheduler.output_formatter import print_schedule_table, plot_assignment_distribution\n",
    "\n",
    "booth_info = load_booth_schedule(\"../../data/booth_schedule.json\")\n",
    "enterprise_df = pd.read_csv(\"../../data/selected_enterprises.csv\")"
   ],
   "id": "71aab3da7225e3b0",
   "outputs": [],
   "execution_count": 25
  },
  {
   "metadata": {},
   "cell_type": "markdown",
   "source": [
    "# 七、模型公式说明（markdown，LaTeX）\n",
    "\n",
    "\"\"\"\n",
    "## 展位调度建模公式说明\n",
    "\n",
    "设:\n",
    "- $E = \\{e_1, e_2, ..., e_7\\}$ 为参展企业集合\n",
    "- 每个企业 $e_i$ 具有需求小时 $d_i$，最大允许不足 $g_i$\n",
    "- 每天展位集合为 $B_t = \\{b_{t1}, b_{t2}, ..., b_{tn}\\}$，每个展位 $b$ 有时长 $h_b$\n",
    "\n",
    "### 目标:\n",
    "合理分配展位，使得每家企业 $e_i$ 满足：\n",
    "$$\n",
    "\\sum_{b \\in A_i} h_b \\geq d_i - g_i\n",
    "$$\n",
    "其中 $A_i$ 表示分配给 $e_i$ 的展位集合。\n",
    "\n",
    "### 限制条件：\n",
    "1. 每个展位每天最多使用一次：\n",
    "   $$ b \\in B_t \\Rightarrow b \\text{ assigned to at most 1 enterprise} $$\n",
    "2. 企业地位相等，采用公平分配启发式策略（如优先满足剩余需求多者）。\n",
    "3. 每天分配展位数不超过 12。\n",
    "\"\"\""
   ],
   "id": "539312a0856fe44"
  },
  {
   "metadata": {
    "ExecuteTime": {
     "end_time": "2025-06-30T03:09:36.844193Z",
     "start_time": "2025-06-30T03:09:36.842237Z"
    }
   },
   "cell_type": "code",
   "source": [
    "# 三、执行展位调度算法\n",
    "assignment = allocate_booths(booth_info, enterprise_df)"
   ],
   "id": "3d697ed16cba716e",
   "outputs": [],
   "execution_count": 26
  },
  {
   "metadata": {
    "ExecuteTime": {
     "end_time": "2025-06-30T03:09:36.891468Z",
     "start_time": "2025-06-30T03:09:36.889496Z"
    }
   },
   "cell_type": "code",
   "source": [
    "# 四、验证调度是否满足约束条件\n",
    "validate_schedule(assignment, enterprise_df)"
   ],
   "id": "2aa413106603fa7d",
   "outputs": [],
   "execution_count": 27
  },
  {
   "metadata": {
    "ExecuteTime": {
     "end_time": "2025-06-30T03:09:36.940193Z",
     "start_time": "2025-06-30T03:09:36.936612Z"
    }
   },
   "cell_type": "code",
   "source": [
    "# 五、输出展位分配附表\n",
    "print_schedule_table(assignment)"
   ],
   "id": "f221706c38e0b634",
   "outputs": [
    {
     "name": "stdout",
     "output_type": "stream",
     "text": [
      "                        A1                            A2    B1          B2\n",
      "周一                    A x4                          A x5  B x1  A x1, B x1\n",
      "周二              A x2, B x2                    A x3, B x2  B x1  A x1, B x1\n",
      "周三              A x2, B x2        A x2, F x1, B x1, C x1  F x1  B x1, C x1\n",
      "周四        E x2, F x1, A x1  B x1, C x1, F x1, D x1, A x1  E x1  B x1, C x1\n",
      "周五  F x1, D x1, A x1, E x1  B x1, C x1, F x1, G x1, D x1  A x1        E x1\n"
     ]
    }
   ],
   "execution_count": 28
  },
  {
   "metadata": {
    "ExecuteTime": {
     "end_time": "2025-06-30T03:09:37.083177Z",
     "start_time": "2025-06-30T03:09:36.986329Z"
    }
   },
   "cell_type": "code",
   "source": [
    "# 六、可视化结果（每天企业获得时间总量）\n",
    "plot_assignment_distribution(assignment, enterprise_df)"
   ],
   "id": "e6d2786beaccba33",
   "outputs": [
    {
     "data": {
      "text/plain": [
       "<Figure size 1000x500 with 1 Axes>"
      ],
      "image/png": "[encoded data removed]"
     },
     "metadata": {},
     "output_type": "display_data"
    }
   ],
   "execution_count": 29
  }
 ],
 "metadata": {
  "kernelspec": {
   "display_name": "Python 3",
   "language": "python",
   "name": "python3"
  },
  "language_info": {
   "codemirror_mode": {
    "name": "ipython",
    "version": 2
   },
   "file_extension": ".py",
   "mimetype": "text/x-python",
   "name": "python",
   "nbconvert_exporter": "python",
   "pygments_lexer": "ipython2",
   "version": "2.7.6"
  }
 },
 "nbformat": 4,
 "nbformat_minor": 5
}
