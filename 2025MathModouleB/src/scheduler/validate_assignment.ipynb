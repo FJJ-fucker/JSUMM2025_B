{
 "cells": [
  {
   "metadata": {},
   "cell_type": "code",
   "outputs": [],
   "execution_count": null,
   "source": [
    "from collections import defaultdict\n",
    "\n",
    "def validate_schedule(assignment, enterprise_df):\n",
    "    assigned_time = defaultdict(float)\n",
    "    for day in assignment:\n",
    "        for area in assignment[day]:\n",
    "            for booth in assignment[day][area]:\n",
    "                assigned_time[booth['企业代号']] += booth['时长']\n",
    "\n",
    "    for _, row in enterprise_df.iterrows():\n",
    "        eid = row['企业代号']\n",
    "        required = row['需求小时数']\n",
    "        gap = row['可允许不足小时数']\n",
    "        min_required = required - gap\n",
    "        assert assigned_time[eid] >= min_required, f\"企业{eid}分配不足：{assigned_time[eid]} < {min_required}\""
   ],
   "id": "135c13859766ae94"
  }
 ],
 "metadata": {},
 "nbformat": 4,
 "nbformat_minor": 5
}
