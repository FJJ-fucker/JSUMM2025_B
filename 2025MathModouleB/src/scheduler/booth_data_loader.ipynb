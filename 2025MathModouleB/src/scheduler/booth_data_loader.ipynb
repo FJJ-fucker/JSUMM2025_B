{
 "cells": [
  {
   "metadata": {},
   "cell_type": "code",
   "outputs": [],
   "execution_count": null,
   "source": [
    "import json\n",
    "\n",
    "\n",
    "def load_booth_schedule(json_path):\n",
    "    with open(json_path, 'r') as f:\n",
    "        data = json.load(f)\n",
    "\n",
    "    days = ['周一', '周二', '周三', '周四', '周五']\n",
    "    schedule = {}\n",
    "    for i, day in enumerate(days):\n",
    "        schedule[day] = {\n",
    "            'A1': [{'时长': data[day][0]}] * data['展位数'][0],\n",
    "            'A2': [{'时长': data[day][1]}] * data['展位数'][1],\n",
    "            'B1': [{'时长': data[day][2]}] * data['展位数'][2],\n",
    "            'B2': [{'时长': data[day][3]}] * data['展位数'][3]\n",
    "        }\n",
    "    return schedule"
   ],
   "id": "fc284c177f810bad"
  }
 ],
 "metadata": {},
 "nbformat": 4,
 "nbformat_minor": 5
}
